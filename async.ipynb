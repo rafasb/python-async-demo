{
 "cells": [
  {
   "cell_type": "markdown",
   "metadata": {},
   "source": [
    "# Tareas asincronas en Python"
   ]
  },
  {
   "cell_type": "markdown",
   "metadata": {},
   "source": [
    "Ejecución secuencial"
   ]
  },
  {
   "cell_type": "code",
   "execution_count": 22,
   "metadata": {},
   "outputs": [
    {
     "name": "stdout",
     "output_type": "stream",
     "text": [
      "hey\n",
      "hola\n"
     ]
    }
   ],
   "source": [
    "import asyncio\n",
    "\n",
    "def foo():\n",
    "    print(\"hey\")\n",
    "    return\n",
    "\n",
    "foo()\n",
    "print(\"hola\")"
   ]
  },
  {
   "cell_type": "markdown",
   "metadata": {},
   "source": [
    "Para crear un código asincrono debemos definir un bucle (Async Event-Loop --> asyncio.run()).\n",
    "\n",
    "La función definida con *async* requiere de código que debe esperar. Éste serán funciones llamadas con *await*.\n",
    "La llamada *await* debe estar dentro de una función *async*\n",
    "En el Script siguiente, se ejecutan las tareas secuencialmente, esperando que la función foo termine antes de imprimir \"Fin\""
   ]
  },
  {
   "cell_type": "code",
   "execution_count": 11,
   "metadata": {},
   "outputs": [
    {
     "name": "stdout",
     "output_type": "stream",
     "text": [
      "Hola\n",
      "Adios\n",
      "Fin\n"
     ]
    }
   ],
   "source": [
    "import asyncio\n",
    "\n",
    "async def main():\n",
    "    #Corutina\n",
    "    print(\"Hola\")\n",
    "    await foo()\n",
    "    #Este código espera a que termine foo\n",
    "    print(\"Fin\")\n",
    "\n",
    "async def foo():\n",
    "    #corutina\n",
    "    print(\"Adios\")\n",
    "    await asyncio.sleep(2)\n",
    "    #foo termina despues de esperar 2 segundos.\n",
    "\n",
    "#En un script python debe emplearse asyncio.run(main())\n",
    "#Dado que se ejecuta dentro de JUPYTER, ya tenemos un bucle de ejecución.\n",
    "#por eso bastará con hacer la llamada await y la función.\n",
    "await main()"
   ]
  },
  {
   "cell_type": "markdown",
   "metadata": {},
   "source": [
    "Para hacer que el código no sea secuancial, y que se puedan realizar tareas sin esperar a que otras tareas terminen se emplean las **task**\n",
    "En el siguiente script, cambiando la llamada a la función *foo*, ya no esperamos a que termine la función para que el código continue ejecutándose, pero sí esperamos a que termine la función *foo* para que el bucle termine de ejecutarse.\n",
    "Vemos en el resultado que la función *foo* empieza a ejecutarse tras la ejecución del código de *main*. La función espera a que otro código haya terminado. También se ejecuta *foo*, pero cuando no hay otro código ejecutándose. Obviamente termina después de que termine el código de *main*"
   ]
  },
  {
   "cell_type": "code",
   "execution_count": 15,
   "metadata": {},
   "outputs": [
    {
     "name": "stdout",
     "output_type": "stream",
     "text": [
      "1\n",
      "4\n",
      "2\n",
      "3\n"
     ]
    }
   ],
   "source": [
    "import asyncio\n",
    "\n",
    "async def main():\n",
    "    #Corutina\n",
    "    print(\"1\")\n",
    "    #Esta tarea se espera a que el resto del código termine.\n",
    "    task = asyncio.create_task(foo())\n",
    "    print(\"4\")\n",
    "\n",
    "async def foo():\n",
    "    #corutina\n",
    "    print(\"2\")\n",
    "    await asyncio.sleep(2)\n",
    "    print(\"3\")\n",
    "\n",
    "#En un script python debe emplearse asyncio.run(main())\n",
    "#Dado que se ejecuta dentro de JUPYTER, ya tenemos un bucle de ejecución.\n",
    "#por eso bastará con hacer la llamada await y la función.\n",
    "await main()"
   ]
  },
  {
   "cell_type": "markdown",
   "metadata": {},
   "source": [
    "Si queremos que se ejecute algo tras otra función asincrona, debemos emplear **await**"
   ]
  },
  {
   "cell_type": "code",
   "execution_count": 16,
   "metadata": {},
   "outputs": [
    {
     "name": "stdout",
     "output_type": "stream",
     "text": [
      "1\n",
      "2\n",
      "3\n",
      "4\n"
     ]
    }
   ],
   "source": [
    "import asyncio\n",
    "\n",
    "async def main():\n",
    "    #Corutina\n",
    "    print(\"1\")\n",
    "    #Esta tarea se espera a que el resto del código termine.\n",
    "    task = asyncio.create_task(foo())\n",
    "    #Sin embargo le indicamos al código que continuará tras finalizar la tarea puesta en la cola.\n",
    "    await task\n",
    "    print(\"4\")\n",
    "\n",
    "async def foo():\n",
    "    #corutina\n",
    "    print(\"2\")\n",
    "    await asyncio.sleep(2)\n",
    "    print(\"3\")\n",
    "\n",
    "#En un script python debe emplearse asyncio.run(main())\n",
    "#Dado que se ejecuta dentro de JUPYTER, ya tenemos un bucle de ejecución.\n",
    "#por eso bastará con hacer la llamada await y la función.\n",
    "await main()"
   ]
  },
  {
   "cell_type": "markdown",
   "metadata": {},
   "source": [
    "Si queremos hacer otras tareas que también deben esperar."
   ]
  },
  {
   "cell_type": "code",
   "execution_count": 18,
   "metadata": {},
   "outputs": [
    {
     "name": "stdout",
     "output_type": "stream",
     "text": [
      "1\n",
      "2\n",
      "4\n",
      "3\n"
     ]
    }
   ],
   "source": [
    "import asyncio\n",
    "\n",
    "async def main():\n",
    "    #Corutina\n",
    "    print(\"1\")\n",
    "    #Esta tarea se espera a que el resto del código termine.\n",
    "    task = asyncio.create_task(foo())\n",
    "    #Ponemos otra tarea de espera, que permite que la primera (foo) disponga de tiempo para terminar.\n",
    "    await asyncio.sleep(4)\n",
    "    print(\"4\")\n",
    "\n",
    "async def foo():\n",
    "    #corutina\n",
    "    print(\"2\")\n",
    "    #Dado que hay que esperar para la siguiente ejecución, permite que la otra tarea en espera se ejecute.\n",
    "    await asyncio.sleep(2)\n",
    "    print(\"3\")\n",
    "\n",
    "#En un script python debe emplearse asyncio.run(main())\n",
    "#Dado que se ejecuta dentro de JUPYTER, ya tenemos un bucle de ejecución.\n",
    "#por eso bastará con hacer la llamada await y la función.\n",
    "await main()"
   ]
  },
  {
   "cell_type": "markdown",
   "metadata": {},
   "source": [
    "Veamos el uso de llamadas a funciones que pueden tardar en responder"
   ]
  },
  {
   "cell_type": "code",
   "execution_count": 23,
   "metadata": {},
   "outputs": [
    {
     "name": "stdout",
     "output_type": "stream",
     "text": [
      "Esperamos a que terminen\n",
      "Solicitud de datos\n",
      "0\n",
      "1\n",
      "2\n",
      "3\n",
      "Tengo los datos\n",
      "Datos obtenidos:  {'datos': 25}\n",
      "4\n",
      "5\n",
      "6\n",
      "7\n",
      "8\n",
      "9\n"
     ]
    }
   ],
   "source": [
    "import asyncio\n",
    "\n",
    "async def obtener_datos():\n",
    "    print(\"Solicitud de datos\")\n",
    "    await asyncio.sleep(2)\n",
    "    print(\"Tengo los datos\")\n",
    "    return {\"datos\":25}\n",
    "\n",
    "async def contar_cosas():\n",
    "    for i in range(10):\n",
    "        print(i)\n",
    "        await asyncio.sleep(0.5)\n",
    "\n",
    "async def main():\n",
    "    tarea1 = asyncio.create_task(obtener_datos())\n",
    "    tarea2 = asyncio.create_task(contar_cosas())\n",
    "    print(\"Esperamos a que terminen\")\n",
    "    datos = await tarea1\n",
    "    print(\"Datos obtenidos: \", datos)\n",
    "    await tarea2\n",
    "\n",
    "#En un script python debe emplearse asyncio.run(main())\n",
    "#Dado que se ejecuta dentro de JUPYTER, ya tenemos un bucle de ejecución.\n",
    "#por eso bastará con hacer la llamada await y la función.\n",
    "await main()"
   ]
  },
  {
   "cell_type": "code",
   "execution_count": null,
   "metadata": {},
   "outputs": [],
   "source": []
  }
 ],
 "metadata": {
  "interpreter": {
   "hash": "916dbcbb3f70747c44a77c7bcd40155683ae19c65e1c03b4aa3499c5328201f1"
  },
  "kernelspec": {
   "display_name": "Python 3.8.10 64-bit",
   "language": "python",
   "name": "python3"
  },
  "language_info": {
   "codemirror_mode": {
    "name": "ipython",
    "version": 3
   },
   "file_extension": ".py",
   "mimetype": "text/x-python",
   "name": "python",
   "nbconvert_exporter": "python",
   "pygments_lexer": "ipython3",
   "version": "3.8.10"
  },
  "orig_nbformat": 4
 },
 "nbformat": 4,
 "nbformat_minor": 2
}
